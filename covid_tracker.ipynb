{
 "cells": [
  {
   "cell_type": "markdown",
   "metadata": {},
   "source": [
    "# COVID-19 Global Data Tracker\n",
    "This notebook analyzes COVID-19 case data using sample data for the USA, India, and Brazil.\n",
    "\n",
    "**Objectives:**\n",
    "- Load and explore a COVID-19 dataset\n",
    "- Perform basic data analysis\n",
    "- Visualize insights using matplotlib and seaborn"
   ]
  },
  {
   "cell_type": "code",
   "execution_count": null,
   "metadata": {},
   "outputs": [],
   "source": [
    "import pandas as pd\n",
    "import matplotlib.pyplot as plt\n",
    "import seaborn as sns\n",
    "import numpy as np\n",
    "from datetime import datetime"
   ]
  },
  {
   "cell_type": "markdown",
   "metadata": {},
   "source": [
    "## Load and Explore Data"
   ]
  },
  {
   "cell_type": "code",
   "execution_count": null,
   "metadata": {},
   "outputs": [],
   "source": [
    "# Simulate sample COVID-19 dataset\n",
    "data = {\n",
    "    'date': pd.date_range(start='2021-01-01', periods=10, freq='D').tolist() * 3,\n",
    "    'country': ['USA'] * 10 + ['India'] * 10 + ['Brazil'] * 10,\n",
    "    'new_cases': np.random.randint(10000, 50000, size=30),\n",
    "    'new_deaths': np.random.randint(100, 1000, size=30),\n",
    "}\n",
    "\n",
    "df = pd.DataFrame(data)\n",
    "df['date'] = pd.to_datetime(df['date'])\n",
    "df.head()"
   ]
  },
  {
   "cell_type": "markdown",
   "metadata": {},
   "source": [
    "## Basic Data Analysis"
   ]
  },
  {
   "cell_type": "code",
   "execution_count": null,
   "metadata": {},
   "outputs": [],
   "source": [
    "# Group by country and calculate totals\n",
    "summary = df.groupby('country').agg({\n",
    "    'new_cases': 'sum',\n",
    "    'new_deaths': 'sum'\n",
    "}).reset_index()\n",
    "summary"
   ]
  },
  {
   "cell_type": "markdown",
   "metadata": {},
   "source": [
    "## Visualizations"
   ]
  },
  {
   "cell_type": "code",
   "execution_count": null,
   "metadata": {},
   "outputs": [],
   "source": [
    "sns.set(style='whitegrid')\n",
    "\n",
    "# Bar plot for total cases\n",
    "plt.figure(figsize=(10, 6))\n",
    "sns.barplot(x='new_cases', y='country', data=summary, palette='OrRd')\n",
    "plt.title('Total COVID-19 Cases by Country')\n",
    "plt.xlabel('Total Cases')\n",
    "plt.ylabel('Country')\n",
    "plt.tight_layout()\n",
    "plt.show()"
   ]
  }
 ],
 "metadata": {
  "kernelspec": {
   "display_name": "Python 3",
   "language": "python",
   "name": "python3"
  },
  "language_info": {
   "name": "python",
   "version": "3.10"
  }
 },
 "nbformat": 4,
 "nbformat_minor": 5
}
